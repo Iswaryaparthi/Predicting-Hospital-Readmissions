{
 "cells": [
  {
   "cell_type": "code",
   "execution_count": 1,
   "metadata": {},
   "outputs": [],
   "source": [
    "import pandas as pd\n",
    "import numpy as np\n",
    "import matplotlib.pyplot as plt"
   ]
  },
  {
   "cell_type": "code",
   "execution_count": 2,
   "metadata": {},
   "outputs": [
    {
     "data": {
      "text/html": [
       "<div>\n",
       "<style scoped>\n",
       "    .dataframe tbody tr th:only-of-type {\n",
       "        vertical-align: middle;\n",
       "    }\n",
       "\n",
       "    .dataframe tbody tr th {\n",
       "        vertical-align: top;\n",
       "    }\n",
       "\n",
       "    .dataframe thead th {\n",
       "        text-align: right;\n",
       "    }\n",
       "</style>\n",
       "<table border=\"1\" class=\"dataframe\">\n",
       "  <thead>\n",
       "    <tr style=\"text-align: right;\">\n",
       "      <th></th>\n",
       "      <th>Patient_ID</th>\n",
       "      <th>Age</th>\n",
       "      <th>Gender</th>\n",
       "      <th>Admission_Type</th>\n",
       "      <th>Diagnosis</th>\n",
       "      <th>Num_Lab_Procedures</th>\n",
       "      <th>Num_Medications</th>\n",
       "      <th>Num_Outpatient_Visits</th>\n",
       "      <th>Num_Inpatient_Visits</th>\n",
       "      <th>Num_Emergency_Visits</th>\n",
       "      <th>Num_Diagnoses</th>\n",
       "      <th>A1C_Result</th>\n",
       "      <th>Readmitted</th>\n",
       "    </tr>\n",
       "  </thead>\n",
       "  <tbody>\n",
       "    <tr>\n",
       "      <th>0</th>\n",
       "      <td>1</td>\n",
       "      <td>69</td>\n",
       "      <td>Other</td>\n",
       "      <td>Emergency</td>\n",
       "      <td>Heart Disease</td>\n",
       "      <td>33</td>\n",
       "      <td>2</td>\n",
       "      <td>4</td>\n",
       "      <td>1</td>\n",
       "      <td>1</td>\n",
       "      <td>5</td>\n",
       "      <td>NaN</td>\n",
       "      <td>Yes</td>\n",
       "    </tr>\n",
       "    <tr>\n",
       "      <th>1</th>\n",
       "      <td>2</td>\n",
       "      <td>32</td>\n",
       "      <td>Female</td>\n",
       "      <td>Urgent</td>\n",
       "      <td>Diabetes</td>\n",
       "      <td>81</td>\n",
       "      <td>10</td>\n",
       "      <td>4</td>\n",
       "      <td>4</td>\n",
       "      <td>1</td>\n",
       "      <td>6</td>\n",
       "      <td>NaN</td>\n",
       "      <td>No</td>\n",
       "    </tr>\n",
       "    <tr>\n",
       "      <th>2</th>\n",
       "      <td>3</td>\n",
       "      <td>78</td>\n",
       "      <td>Female</td>\n",
       "      <td>Urgent</td>\n",
       "      <td>Heart Disease</td>\n",
       "      <td>75</td>\n",
       "      <td>29</td>\n",
       "      <td>4</td>\n",
       "      <td>0</td>\n",
       "      <td>3</td>\n",
       "      <td>5</td>\n",
       "      <td>Normal</td>\n",
       "      <td>No</td>\n",
       "    </tr>\n",
       "    <tr>\n",
       "      <th>3</th>\n",
       "      <td>4</td>\n",
       "      <td>38</td>\n",
       "      <td>Male</td>\n",
       "      <td>Elective</td>\n",
       "      <td>Diabetes</td>\n",
       "      <td>77</td>\n",
       "      <td>11</td>\n",
       "      <td>2</td>\n",
       "      <td>3</td>\n",
       "      <td>4</td>\n",
       "      <td>9</td>\n",
       "      <td>NaN</td>\n",
       "      <td>Yes</td>\n",
       "    </tr>\n",
       "    <tr>\n",
       "      <th>4</th>\n",
       "      <td>5</td>\n",
       "      <td>41</td>\n",
       "      <td>Female</td>\n",
       "      <td>Urgent</td>\n",
       "      <td>Diabetes</td>\n",
       "      <td>50</td>\n",
       "      <td>25</td>\n",
       "      <td>3</td>\n",
       "      <td>4</td>\n",
       "      <td>1</td>\n",
       "      <td>3</td>\n",
       "      <td>NaN</td>\n",
       "      <td>Yes</td>\n",
       "    </tr>\n",
       "  </tbody>\n",
       "</table>\n",
       "</div>"
      ],
      "text/plain": [
       "   Patient_ID  Age  Gender Admission_Type      Diagnosis  Num_Lab_Procedures  \\\n",
       "0           1   69   Other      Emergency  Heart Disease                  33   \n",
       "1           2   32  Female         Urgent       Diabetes                  81   \n",
       "2           3   78  Female         Urgent  Heart Disease                  75   \n",
       "3           4   38    Male       Elective       Diabetes                  77   \n",
       "4           5   41  Female         Urgent       Diabetes                  50   \n",
       "\n",
       "   Num_Medications  Num_Outpatient_Visits  Num_Inpatient_Visits  \\\n",
       "0                2                      4                     1   \n",
       "1               10                      4                     4   \n",
       "2               29                      4                     0   \n",
       "3               11                      2                     3   \n",
       "4               25                      3                     4   \n",
       "\n",
       "   Num_Emergency_Visits  Num_Diagnoses A1C_Result Readmitted  \n",
       "0                     1              5        NaN        Yes  \n",
       "1                     1              6        NaN         No  \n",
       "2                     3              5     Normal         No  \n",
       "3                     4              9        NaN        Yes  \n",
       "4                     1              3        NaN        Yes  "
      ]
     },
     "execution_count": 2,
     "metadata": {},
     "output_type": "execute_result"
    }
   ],
   "source": [
    "df_old = pd.read_csv('hospital_readmissions.csv')\n",
    "df_old.head()"
   ]
  },
  {
   "cell_type": "code",
   "execution_count": 3,
   "metadata": {},
   "outputs": [
    {
     "data": {
      "text/plain": [
       "Patient_ID                 0\n",
       "Age                        0\n",
       "Gender                     0\n",
       "Admission_Type             0\n",
       "Diagnosis                  0\n",
       "Num_Lab_Procedures         0\n",
       "Num_Medications            0\n",
       "Num_Outpatient_Visits      0\n",
       "Num_Inpatient_Visits       0\n",
       "Num_Emergency_Visits       0\n",
       "Num_Diagnoses              0\n",
       "A1C_Result               434\n",
       "Readmitted                 0\n",
       "dtype: int64"
      ]
     },
     "execution_count": 3,
     "metadata": {},
     "output_type": "execute_result"
    }
   ],
   "source": [
    "df_old.isnull().sum()"
   ]
  },
  {
   "cell_type": "code",
   "execution_count": 4,
   "metadata": {},
   "outputs": [
    {
     "data": {
      "text/plain": [
       "0           NaN\n",
       "1           NaN\n",
       "2        Normal\n",
       "3           NaN\n",
       "4           NaN\n",
       "         ...   \n",
       "995      Normal\n",
       "996      Normal\n",
       "997      Normal\n",
       "998    Abnormal\n",
       "999    Abnormal\n",
       "Name: A1C_Result, Length: 1000, dtype: object"
      ]
     },
     "execution_count": 4,
     "metadata": {},
     "output_type": "execute_result"
    }
   ],
   "source": [
    "df_old['A1C_Result']"
   ]
  },
  {
   "cell_type": "code",
   "execution_count": 5,
   "metadata": {},
   "outputs": [
    {
     "name": "stdout",
     "output_type": "stream",
     "text": [
      "count          566\n",
      "unique           2\n",
      "top       Abnormal\n",
      "freq           301\n",
      "Name: A1C_Result, dtype: object\n"
     ]
    }
   ],
   "source": [
    "print(df_old['A1C_Result'].describe())"
   ]
  },
  {
   "cell_type": "markdown",
   "metadata": {},
   "source": [
    "#### splitting the dataset into null and value dataset"
   ]
  },
  {
   "cell_type": "code",
   "execution_count": 6,
   "metadata": {},
   "outputs": [],
   "source": [
    "# dataframe with NaN values\n",
    "nan_df = df_old[df_old.isnull().any(axis=1)]\n",
    "\n",
    "# dataframe with normal and abnormal values\n",
    "data_df = df_old.dropna()\n"
   ]
  },
  {
   "cell_type": "code",
   "execution_count": 7,
   "metadata": {},
   "outputs": [
    {
     "name": "stdout",
     "output_type": "stream",
     "text": [
      "<class 'pandas.core.frame.DataFrame'>\n",
      "Index: 566 entries, 2 to 999\n",
      "Data columns (total 13 columns):\n",
      " #   Column                 Non-Null Count  Dtype \n",
      "---  ------                 --------------  ----- \n",
      " 0   Patient_ID             566 non-null    int64 \n",
      " 1   Age                    566 non-null    int64 \n",
      " 2   Gender                 566 non-null    object\n",
      " 3   Admission_Type         566 non-null    object\n",
      " 4   Diagnosis              566 non-null    object\n",
      " 5   Num_Lab_Procedures     566 non-null    int64 \n",
      " 6   Num_Medications        566 non-null    int64 \n",
      " 7   Num_Outpatient_Visits  566 non-null    int64 \n",
      " 8   Num_Inpatient_Visits   566 non-null    int64 \n",
      " 9   Num_Emergency_Visits   566 non-null    int64 \n",
      " 10  Num_Diagnoses          566 non-null    int64 \n",
      " 11  A1C_Result             566 non-null    object\n",
      " 12  Readmitted             566 non-null    object\n",
      "dtypes: int64(8), object(5)\n",
      "memory usage: 61.9+ KB\n"
     ]
    }
   ],
   "source": [
    "data_df.info()"
   ]
  },
  {
   "cell_type": "code",
   "execution_count": 8,
   "metadata": {},
   "outputs": [],
   "source": [
    "nan_df = nan_df.drop(columns=['Readmitted'])"
   ]
  },
  {
   "cell_type": "markdown",
   "metadata": {},
   "source": [
    "#### encoding for null dataset columns"
   ]
  },
  {
   "cell_type": "code",
   "execution_count": 9,
   "metadata": {},
   "outputs": [
    {
     "name": "stdout",
     "output_type": "stream",
     "text": [
      "{'original': array([nan], dtype=object), 'encoded': array([0])}\n"
     ]
    }
   ],
   "source": [
    "from sklearn.preprocessing import LabelEncoder\n",
    "\n",
    "# label encoding for A1C_Result\n",
    "\n",
    "label_encoder = LabelEncoder()\n",
    "nan_df['A1C_Result'] = label_encoder.fit_transform(nan_df['A1C_Result'])\n",
    "\n",
    "# Get A1C_Result unique values and their corresponding encoded values\n",
    "\n",
    "unique_labels = label_encoder.classes_\n",
    "encoded_values = label_encoder.transform(unique_labels)\n",
    "print({'original': unique_labels,'encoded':encoded_values})"
   ]
  },
  {
   "cell_type": "code",
   "execution_count": 10,
   "metadata": {},
   "outputs": [
    {
     "name": "stdout",
     "output_type": "stream",
     "text": [
      "{'original': array(['Female', 'Male', 'Other'], dtype=object), 'encoded': array([0, 1, 2])}\n"
     ]
    }
   ],
   "source": [
    "# label encoding for gender\n",
    "\n",
    "label_encoder = LabelEncoder()\n",
    "nan_df['Gender'] = label_encoder.fit_transform(nan_df['Gender'])\n",
    "\n",
    "# Get gender unique values and their corresponding encoded values\n",
    "\n",
    "unique_labels = label_encoder.classes_\n",
    "encoded_values = label_encoder.transform(unique_labels)\n",
    "print({'original': unique_labels,'encoded':encoded_values})"
   ]
  },
  {
   "cell_type": "code",
   "execution_count": 11,
   "metadata": {},
   "outputs": [
    {
     "name": "stdout",
     "output_type": "stream",
     "text": [
      "{'original': array(['Elective', 'Emergency', 'Urgent'], dtype=object), 'encoded': array([0, 1, 2])}\n"
     ]
    }
   ],
   "source": [
    "# label encoding for Admission_Type\n",
    "\n",
    "label_encoder = LabelEncoder()\n",
    "nan_df['Admission_Type'] = label_encoder.fit_transform(nan_df['Admission_Type'])\n",
    "\n",
    "# Get Admission_Type unique values and their corresponding encoded values\n",
    "\n",
    "unique_labels = label_encoder.classes_\n",
    "encoded_values = label_encoder.transform(unique_labels)\n",
    "print({'original': unique_labels,'encoded':encoded_values})"
   ]
  },
  {
   "cell_type": "code",
   "execution_count": 12,
   "metadata": {},
   "outputs": [
    {
     "name": "stdout",
     "output_type": "stream",
     "text": [
      "{'original': array(['Diabetes', 'Heart Disease', 'Infection', 'Injury'], dtype=object), 'encoded': array([0, 1, 2, 3])}\n"
     ]
    }
   ],
   "source": [
    " #label encoding for Diagnosis\n",
    "\n",
    "label_encoder = LabelEncoder()\n",
    "nan_df['Diagnosis'] = label_encoder.fit_transform(nan_df['Diagnosis'])\n",
    "\n",
    "# Get Diagnosis unique values and their corresponding encoded values\n",
    "\n",
    "unique_labels = label_encoder.classes_\n",
    "encoded_values = label_encoder.transform(unique_labels)\n",
    "print({'original': unique_labels,'encoded':encoded_values})"
   ]
  },
  {
   "cell_type": "code",
   "execution_count": 13,
   "metadata": {},
   "outputs": [
    {
     "data": {
      "text/html": [
       "<div>\n",
       "<style scoped>\n",
       "    .dataframe tbody tr th:only-of-type {\n",
       "        vertical-align: middle;\n",
       "    }\n",
       "\n",
       "    .dataframe tbody tr th {\n",
       "        vertical-align: top;\n",
       "    }\n",
       "\n",
       "    .dataframe thead th {\n",
       "        text-align: right;\n",
       "    }\n",
       "</style>\n",
       "<table border=\"1\" class=\"dataframe\">\n",
       "  <thead>\n",
       "    <tr style=\"text-align: right;\">\n",
       "      <th></th>\n",
       "      <th>Patient_ID</th>\n",
       "      <th>Age</th>\n",
       "      <th>Gender</th>\n",
       "      <th>Admission_Type</th>\n",
       "      <th>Diagnosis</th>\n",
       "      <th>Num_Lab_Procedures</th>\n",
       "      <th>Num_Medications</th>\n",
       "      <th>Num_Outpatient_Visits</th>\n",
       "      <th>Num_Inpatient_Visits</th>\n",
       "      <th>Num_Emergency_Visits</th>\n",
       "      <th>Num_Diagnoses</th>\n",
       "      <th>A1C_Result</th>\n",
       "    </tr>\n",
       "  </thead>\n",
       "  <tbody>\n",
       "    <tr>\n",
       "      <th>0</th>\n",
       "      <td>1</td>\n",
       "      <td>69</td>\n",
       "      <td>2</td>\n",
       "      <td>1</td>\n",
       "      <td>1</td>\n",
       "      <td>33</td>\n",
       "      <td>2</td>\n",
       "      <td>4</td>\n",
       "      <td>1</td>\n",
       "      <td>1</td>\n",
       "      <td>5</td>\n",
       "      <td>0</td>\n",
       "    </tr>\n",
       "    <tr>\n",
       "      <th>1</th>\n",
       "      <td>2</td>\n",
       "      <td>32</td>\n",
       "      <td>0</td>\n",
       "      <td>2</td>\n",
       "      <td>0</td>\n",
       "      <td>81</td>\n",
       "      <td>10</td>\n",
       "      <td>4</td>\n",
       "      <td>4</td>\n",
       "      <td>1</td>\n",
       "      <td>6</td>\n",
       "      <td>0</td>\n",
       "    </tr>\n",
       "    <tr>\n",
       "      <th>3</th>\n",
       "      <td>4</td>\n",
       "      <td>38</td>\n",
       "      <td>1</td>\n",
       "      <td>0</td>\n",
       "      <td>0</td>\n",
       "      <td>77</td>\n",
       "      <td>11</td>\n",
       "      <td>2</td>\n",
       "      <td>3</td>\n",
       "      <td>4</td>\n",
       "      <td>9</td>\n",
       "      <td>0</td>\n",
       "    </tr>\n",
       "    <tr>\n",
       "      <th>4</th>\n",
       "      <td>5</td>\n",
       "      <td>41</td>\n",
       "      <td>0</td>\n",
       "      <td>2</td>\n",
       "      <td>0</td>\n",
       "      <td>50</td>\n",
       "      <td>25</td>\n",
       "      <td>3</td>\n",
       "      <td>4</td>\n",
       "      <td>1</td>\n",
       "      <td>3</td>\n",
       "      <td>0</td>\n",
       "    </tr>\n",
       "    <tr>\n",
       "      <th>5</th>\n",
       "      <td>6</td>\n",
       "      <td>20</td>\n",
       "      <td>1</td>\n",
       "      <td>0</td>\n",
       "      <td>3</td>\n",
       "      <td>11</td>\n",
       "      <td>20</td>\n",
       "      <td>3</td>\n",
       "      <td>4</td>\n",
       "      <td>1</td>\n",
       "      <td>3</td>\n",
       "      <td>0</td>\n",
       "    </tr>\n",
       "  </tbody>\n",
       "</table>\n",
       "</div>"
      ],
      "text/plain": [
       "   Patient_ID  Age  Gender  Admission_Type  Diagnosis  Num_Lab_Procedures  \\\n",
       "0           1   69       2               1          1                  33   \n",
       "1           2   32       0               2          0                  81   \n",
       "3           4   38       1               0          0                  77   \n",
       "4           5   41       0               2          0                  50   \n",
       "5           6   20       1               0          3                  11   \n",
       "\n",
       "   Num_Medications  Num_Outpatient_Visits  Num_Inpatient_Visits  \\\n",
       "0                2                      4                     1   \n",
       "1               10                      4                     4   \n",
       "3               11                      2                     3   \n",
       "4               25                      3                     4   \n",
       "5               20                      3                     4   \n",
       "\n",
       "   Num_Emergency_Visits  Num_Diagnoses  A1C_Result  \n",
       "0                     1              5           0  \n",
       "1                     1              6           0  \n",
       "3                     4              9           0  \n",
       "4                     1              3           0  \n",
       "5                     1              3           0  "
      ]
     },
     "execution_count": 13,
     "metadata": {},
     "output_type": "execute_result"
    }
   ],
   "source": [
    "nan_df.head()"
   ]
  },
  {
   "cell_type": "markdown",
   "metadata": {},
   "source": [
    "#### data preprocessing for df which have data"
   ]
  },
  {
   "cell_type": "code",
   "execution_count": 14,
   "metadata": {},
   "outputs": [],
   "source": [
    "data_df = data_df.drop(columns=['Readmitted'])"
   ]
  },
  {
   "cell_type": "markdown",
   "metadata": {},
   "source": [
    "#### encoding for value dataset column"
   ]
  },
  {
   "cell_type": "code",
   "execution_count": 15,
   "metadata": {},
   "outputs": [
    {
     "name": "stdout",
     "output_type": "stream",
     "text": [
      "{'original': array(['Abnormal', 'Normal'], dtype=object), 'encoded': array([0, 1])}\n"
     ]
    }
   ],
   "source": [
    "# label encoding for A1C_Result\n",
    "\n",
    "label_encoder = LabelEncoder()\n",
    "data_df['A1C_Result'] = label_encoder.fit_transform(data_df['A1C_Result'])\n",
    "\n",
    "# Get readmitted unique values and their corresponding encoded values\n",
    "\n",
    "unique_labels = label_encoder.classes_\n",
    "encoded_values = label_encoder.transform(unique_labels)\n",
    "print({'original': unique_labels,'encoded':encoded_values})"
   ]
  },
  {
   "cell_type": "code",
   "execution_count": 16,
   "metadata": {},
   "outputs": [
    {
     "name": "stdout",
     "output_type": "stream",
     "text": [
      "{'original': array(['Female', 'Male', 'Other'], dtype=object), 'encoded': array([0, 1, 2])}\n"
     ]
    }
   ],
   "source": [
    "# label encoding for gender\n",
    "\n",
    "label_encoder = LabelEncoder()\n",
    "data_df['Gender'] = label_encoder.fit_transform(data_df['Gender'])\n",
    "\n",
    "# Get gender unique values and their corresponding encoded values\n",
    "\n",
    "unique_labels = label_encoder.classes_\n",
    "encoded_values = label_encoder.transform(unique_labels)\n",
    "print({'original': unique_labels,'encoded':encoded_values})"
   ]
  },
  {
   "cell_type": "code",
   "execution_count": 17,
   "metadata": {},
   "outputs": [
    {
     "name": "stdout",
     "output_type": "stream",
     "text": [
      "{'original': array(['Elective', 'Emergency', 'Urgent'], dtype=object), 'encoded': array([0, 1, 2])}\n"
     ]
    }
   ],
   "source": [
    "# label encoding for Admission_Type\n",
    "\n",
    "label_encoder = LabelEncoder()\n",
    "data_df['Admission_Type'] = label_encoder.fit_transform(data_df['Admission_Type'])\n",
    "\n",
    "# Get Admission_Type unique values and their corresponding encoded values\n",
    "\n",
    "unique_labels = label_encoder.classes_\n",
    "encoded_values = label_encoder.transform(unique_labels)\n",
    "print({'original': unique_labels,'encoded':encoded_values})"
   ]
  },
  {
   "cell_type": "code",
   "execution_count": 18,
   "metadata": {},
   "outputs": [
    {
     "name": "stdout",
     "output_type": "stream",
     "text": [
      "{'original': array(['Diabetes', 'Heart Disease', 'Infection', 'Injury'], dtype=object), 'encoded': array([0, 1, 2, 3])}\n"
     ]
    }
   ],
   "source": [
    "#label encoding for Diagnosis\n",
    "\n",
    "label_encoder = LabelEncoder()\n",
    "data_df['Diagnosis'] = label_encoder.fit_transform(data_df['Diagnosis'])\n",
    "\n",
    "# Get Diagnosis unique values and their corresponding encoded values\n",
    "\n",
    "unique_labels = label_encoder.classes_\n",
    "encoded_values = label_encoder.transform(unique_labels)\n",
    "print({'original': unique_labels,'encoded':encoded_values})"
   ]
  },
  {
   "cell_type": "code",
   "execution_count": 19,
   "metadata": {},
   "outputs": [
    {
     "data": {
      "text/html": [
       "<div>\n",
       "<style scoped>\n",
       "    .dataframe tbody tr th:only-of-type {\n",
       "        vertical-align: middle;\n",
       "    }\n",
       "\n",
       "    .dataframe tbody tr th {\n",
       "        vertical-align: top;\n",
       "    }\n",
       "\n",
       "    .dataframe thead th {\n",
       "        text-align: right;\n",
       "    }\n",
       "</style>\n",
       "<table border=\"1\" class=\"dataframe\">\n",
       "  <thead>\n",
       "    <tr style=\"text-align: right;\">\n",
       "      <th></th>\n",
       "      <th>Patient_ID</th>\n",
       "      <th>Age</th>\n",
       "      <th>Gender</th>\n",
       "      <th>Admission_Type</th>\n",
       "      <th>Diagnosis</th>\n",
       "      <th>Num_Lab_Procedures</th>\n",
       "      <th>Num_Medications</th>\n",
       "      <th>Num_Outpatient_Visits</th>\n",
       "      <th>Num_Inpatient_Visits</th>\n",
       "      <th>Num_Emergency_Visits</th>\n",
       "      <th>Num_Diagnoses</th>\n",
       "      <th>A1C_Result</th>\n",
       "    </tr>\n",
       "  </thead>\n",
       "  <tbody>\n",
       "    <tr>\n",
       "      <th>2</th>\n",
       "      <td>3</td>\n",
       "      <td>78</td>\n",
       "      <td>0</td>\n",
       "      <td>2</td>\n",
       "      <td>1</td>\n",
       "      <td>75</td>\n",
       "      <td>29</td>\n",
       "      <td>4</td>\n",
       "      <td>0</td>\n",
       "      <td>3</td>\n",
       "      <td>5</td>\n",
       "      <td>1</td>\n",
       "    </tr>\n",
       "    <tr>\n",
       "      <th>7</th>\n",
       "      <td>8</td>\n",
       "      <td>70</td>\n",
       "      <td>0</td>\n",
       "      <td>0</td>\n",
       "      <td>1</td>\n",
       "      <td>28</td>\n",
       "      <td>19</td>\n",
       "      <td>4</td>\n",
       "      <td>0</td>\n",
       "      <td>3</td>\n",
       "      <td>7</td>\n",
       "      <td>1</td>\n",
       "    </tr>\n",
       "    <tr>\n",
       "      <th>8</th>\n",
       "      <td>9</td>\n",
       "      <td>19</td>\n",
       "      <td>1</td>\n",
       "      <td>2</td>\n",
       "      <td>2</td>\n",
       "      <td>70</td>\n",
       "      <td>23</td>\n",
       "      <td>1</td>\n",
       "      <td>2</td>\n",
       "      <td>4</td>\n",
       "      <td>6</td>\n",
       "      <td>1</td>\n",
       "    </tr>\n",
       "    <tr>\n",
       "      <th>9</th>\n",
       "      <td>10</td>\n",
       "      <td>47</td>\n",
       "      <td>1</td>\n",
       "      <td>1</td>\n",
       "      <td>3</td>\n",
       "      <td>41</td>\n",
       "      <td>24</td>\n",
       "      <td>4</td>\n",
       "      <td>0</td>\n",
       "      <td>0</td>\n",
       "      <td>3</td>\n",
       "      <td>0</td>\n",
       "    </tr>\n",
       "    <tr>\n",
       "      <th>11</th>\n",
       "      <td>12</td>\n",
       "      <td>19</td>\n",
       "      <td>0</td>\n",
       "      <td>1</td>\n",
       "      <td>3</td>\n",
       "      <td>68</td>\n",
       "      <td>14</td>\n",
       "      <td>2</td>\n",
       "      <td>4</td>\n",
       "      <td>2</td>\n",
       "      <td>5</td>\n",
       "      <td>0</td>\n",
       "    </tr>\n",
       "  </tbody>\n",
       "</table>\n",
       "</div>"
      ],
      "text/plain": [
       "    Patient_ID  Age  Gender  Admission_Type  Diagnosis  Num_Lab_Procedures  \\\n",
       "2            3   78       0               2          1                  75   \n",
       "7            8   70       0               0          1                  28   \n",
       "8            9   19       1               2          2                  70   \n",
       "9           10   47       1               1          3                  41   \n",
       "11          12   19       0               1          3                  68   \n",
       "\n",
       "    Num_Medications  Num_Outpatient_Visits  Num_Inpatient_Visits  \\\n",
       "2                29                      4                     0   \n",
       "7                19                      4                     0   \n",
       "8                23                      1                     2   \n",
       "9                24                      4                     0   \n",
       "11               14                      2                     4   \n",
       "\n",
       "    Num_Emergency_Visits  Num_Diagnoses  A1C_Result  \n",
       "2                      3              5           1  \n",
       "7                      3              7           1  \n",
       "8                      4              6           1  \n",
       "9                      0              3           0  \n",
       "11                     2              5           0  "
      ]
     },
     "execution_count": 19,
     "metadata": {},
     "output_type": "execute_result"
    }
   ],
   "source": [
    "data_df.head()"
   ]
  },
  {
   "cell_type": "markdown",
   "metadata": {},
   "source": [
    "#### Model building with A1C result as target variable"
   ]
  },
  {
   "cell_type": "code",
   "execution_count": 20,
   "metadata": {},
   "outputs": [],
   "source": [
    "from sklearn.model_selection import train_test_split\n",
    "from sklearn.metrics import accuracy_score, confusion_matrix, classification_report\n",
    "from sklearn.ensemble import RandomForestClassifier"
   ]
  },
  {
   "cell_type": "code",
   "execution_count": 21,
   "metadata": {},
   "outputs": [],
   "source": [
    "X = data_df[['Age','Gender','Admission_Type','Diagnosis','Num_Lab_Procedures','Num_Medications','Num_Outpatient_Visits',\n",
    "        'Num_Inpatient_Visits','Num_Emergency_Visits','Num_Diagnoses']]\n",
    "y = data_df['A1C_Result']"
   ]
  },
  {
   "cell_type": "markdown",
   "metadata": {},
   "source": [
    "#### splitting the dataset"
   ]
  },
  {
   "cell_type": "code",
   "execution_count": 22,
   "metadata": {},
   "outputs": [],
   "source": [
    "X_train,X_test, y_train,y_test = train_test_split(X,y,test_size=0.2,random_state=42)"
   ]
  },
  {
   "cell_type": "markdown",
   "metadata": {},
   "source": [
    "#### RandomForest Classifier"
   ]
  },
  {
   "cell_type": "code",
   "execution_count": 23,
   "metadata": {},
   "outputs": [
    {
     "data": {
      "text/html": [
       "<style>#sk-container-id-1 {color: black;}#sk-container-id-1 pre{padding: 0;}#sk-container-id-1 div.sk-toggleable {background-color: white;}#sk-container-id-1 label.sk-toggleable__label {cursor: pointer;display: block;width: 100%;margin-bottom: 0;padding: 0.3em;box-sizing: border-box;text-align: center;}#sk-container-id-1 label.sk-toggleable__label-arrow:before {content: \"▸\";float: left;margin-right: 0.25em;color: #696969;}#sk-container-id-1 label.sk-toggleable__label-arrow:hover:before {color: black;}#sk-container-id-1 div.sk-estimator:hover label.sk-toggleable__label-arrow:before {color: black;}#sk-container-id-1 div.sk-toggleable__content {max-height: 0;max-width: 0;overflow: hidden;text-align: left;background-color: #f0f8ff;}#sk-container-id-1 div.sk-toggleable__content pre {margin: 0.2em;color: black;border-radius: 0.25em;background-color: #f0f8ff;}#sk-container-id-1 input.sk-toggleable__control:checked~div.sk-toggleable__content {max-height: 200px;max-width: 100%;overflow: auto;}#sk-container-id-1 input.sk-toggleable__control:checked~label.sk-toggleable__label-arrow:before {content: \"▾\";}#sk-container-id-1 div.sk-estimator input.sk-toggleable__control:checked~label.sk-toggleable__label {background-color: #d4ebff;}#sk-container-id-1 div.sk-label input.sk-toggleable__control:checked~label.sk-toggleable__label {background-color: #d4ebff;}#sk-container-id-1 input.sk-hidden--visually {border: 0;clip: rect(1px 1px 1px 1px);clip: rect(1px, 1px, 1px, 1px);height: 1px;margin: -1px;overflow: hidden;padding: 0;position: absolute;width: 1px;}#sk-container-id-1 div.sk-estimator {font-family: monospace;background-color: #f0f8ff;border: 1px dotted black;border-radius: 0.25em;box-sizing: border-box;margin-bottom: 0.5em;}#sk-container-id-1 div.sk-estimator:hover {background-color: #d4ebff;}#sk-container-id-1 div.sk-parallel-item::after {content: \"\";width: 100%;border-bottom: 1px solid gray;flex-grow: 1;}#sk-container-id-1 div.sk-label:hover label.sk-toggleable__label {background-color: #d4ebff;}#sk-container-id-1 div.sk-serial::before {content: \"\";position: absolute;border-left: 1px solid gray;box-sizing: border-box;top: 0;bottom: 0;left: 50%;z-index: 0;}#sk-container-id-1 div.sk-serial {display: flex;flex-direction: column;align-items: center;background-color: white;padding-right: 0.2em;padding-left: 0.2em;position: relative;}#sk-container-id-1 div.sk-item {position: relative;z-index: 1;}#sk-container-id-1 div.sk-parallel {display: flex;align-items: stretch;justify-content: center;background-color: white;position: relative;}#sk-container-id-1 div.sk-item::before, #sk-container-id-1 div.sk-parallel-item::before {content: \"\";position: absolute;border-left: 1px solid gray;box-sizing: border-box;top: 0;bottom: 0;left: 50%;z-index: -1;}#sk-container-id-1 div.sk-parallel-item {display: flex;flex-direction: column;z-index: 1;position: relative;background-color: white;}#sk-container-id-1 div.sk-parallel-item:first-child::after {align-self: flex-end;width: 50%;}#sk-container-id-1 div.sk-parallel-item:last-child::after {align-self: flex-start;width: 50%;}#sk-container-id-1 div.sk-parallel-item:only-child::after {width: 0;}#sk-container-id-1 div.sk-dashed-wrapped {border: 1px dashed gray;margin: 0 0.4em 0.5em 0.4em;box-sizing: border-box;padding-bottom: 0.4em;background-color: white;}#sk-container-id-1 div.sk-label label {font-family: monospace;font-weight: bold;display: inline-block;line-height: 1.2em;}#sk-container-id-1 div.sk-label-container {text-align: center;}#sk-container-id-1 div.sk-container {/* jupyter's `normalize.less` sets `[hidden] { display: none; }` but bootstrap.min.css set `[hidden] { display: none !important; }` so we also need the `!important` here to be able to override the default hidden behavior on the sphinx rendered scikit-learn.org. See: https://github.com/scikit-learn/scikit-learn/issues/21755 */display: inline-block !important;position: relative;}#sk-container-id-1 div.sk-text-repr-fallback {display: none;}</style><div id=\"sk-container-id-1\" class=\"sk-top-container\"><div class=\"sk-text-repr-fallback\"><pre>RandomForestClassifier(max_depth=10)</pre><b>In a Jupyter environment, please rerun this cell to show the HTML representation or trust the notebook. <br />On GitHub, the HTML representation is unable to render, please try loading this page with nbviewer.org.</b></div><div class=\"sk-container\" hidden><div class=\"sk-item\"><div class=\"sk-estimator sk-toggleable\"><input class=\"sk-toggleable__control sk-hidden--visually\" id=\"sk-estimator-id-1\" type=\"checkbox\" checked><label for=\"sk-estimator-id-1\" class=\"sk-toggleable__label sk-toggleable__label-arrow\">RandomForestClassifier</label><div class=\"sk-toggleable__content\"><pre>RandomForestClassifier(max_depth=10)</pre></div></div></div></div></div>"
      ],
      "text/plain": [
       "RandomForestClassifier(max_depth=10)"
      ]
     },
     "execution_count": 23,
     "metadata": {},
     "output_type": "execute_result"
    }
   ],
   "source": [
    "rf_model = RandomForestClassifier(max_depth=10,n_estimators=100)\n",
    "rf_model.fit(X_train,y_train)"
   ]
  },
  {
   "cell_type": "code",
   "execution_count": 24,
   "metadata": {},
   "outputs": [],
   "source": [
    "y_pred_rf = rf_model.predict(X_test)"
   ]
  },
  {
   "cell_type": "code",
   "execution_count": 25,
   "metadata": {},
   "outputs": [
    {
     "data": {
      "text/plain": [
       "array([0, 0, 0, 0, 1, 0, 0, 1, 1, 0, 0, 1, 0, 1, 0, 0, 0, 0, 0, 1, 0, 1,\n",
       "       0, 0, 0, 0, 0, 1, 0, 0, 0, 0, 0, 0, 0, 1, 0, 0, 0, 0, 0, 0, 1, 0,\n",
       "       1, 0, 0, 1, 0, 1, 0, 1, 0, 1, 1, 0, 1, 0, 0, 0, 0, 0, 0, 0, 0, 0,\n",
       "       0, 1, 1, 1, 0, 1, 0, 0, 0, 0, 0, 0, 0, 1, 0, 1, 0, 0, 0, 1, 1, 1,\n",
       "       0, 1, 1, 0, 0, 1, 1, 1, 0, 1, 0, 0, 1, 1, 0, 0, 0, 1, 1, 1, 0, 0,\n",
       "       1, 0, 0, 0])"
      ]
     },
     "execution_count": 25,
     "metadata": {},
     "output_type": "execute_result"
    }
   ],
   "source": [
    "y_pred_rf"
   ]
  },
  {
   "cell_type": "markdown",
   "metadata": {},
   "source": [
    "#### fill the null values with the predicted values"
   ]
  },
  {
   "cell_type": "code",
   "execution_count": 26,
   "metadata": {},
   "outputs": [],
   "source": [
    "# Predict the missing values in 'A1C_Result' column\n",
    "X_pred = nan_df[['Age', 'Gender', 'Admission_Type', 'Diagnosis', 'Num_Lab_Procedures',\n",
    "                 'Num_Medications', 'Num_Outpatient_Visits', 'Num_Inpatient_Visits',\n",
    "                 'Num_Emergency_Visits', 'Num_Diagnoses']]\n",
    "y_pred = rf_model.predict(X_pred)\n",
    "\n",
    "# Fill the missing values in the original DataFrame with the predicted values\n",
    "nan_df['A1C_Result'] = y_pred\n",
    "\n",
    "# Concatenate the DataFrame with non-missing values and the modified DataFrame with filled values\n",
    "filled_df = pd.concat([data_df, nan_df])\n"
   ]
  },
  {
   "cell_type": "code",
   "execution_count": 27,
   "metadata": {},
   "outputs": [
    {
     "name": "stdout",
     "output_type": "stream",
     "text": [
      "<class 'pandas.core.frame.DataFrame'>\n",
      "Index: 1000 entries, 2 to 994\n",
      "Data columns (total 12 columns):\n",
      " #   Column                 Non-Null Count  Dtype\n",
      "---  ------                 --------------  -----\n",
      " 0   Patient_ID             1000 non-null   int64\n",
      " 1   Age                    1000 non-null   int64\n",
      " 2   Gender                 1000 non-null   int32\n",
      " 3   Admission_Type         1000 non-null   int32\n",
      " 4   Diagnosis              1000 non-null   int32\n",
      " 5   Num_Lab_Procedures     1000 non-null   int64\n",
      " 6   Num_Medications        1000 non-null   int64\n",
      " 7   Num_Outpatient_Visits  1000 non-null   int64\n",
      " 8   Num_Inpatient_Visits   1000 non-null   int64\n",
      " 9   Num_Emergency_Visits   1000 non-null   int64\n",
      " 10  Num_Diagnoses          1000 non-null   int64\n",
      " 11  A1C_Result             1000 non-null   int32\n",
      "dtypes: int32(4), int64(8)\n",
      "memory usage: 85.9 KB\n"
     ]
    }
   ],
   "source": [
    "filled_df.info()"
   ]
  },
  {
   "cell_type": "markdown",
   "metadata": {},
   "source": [
    "#### Add readmitted column to the newly filled df"
   ]
  },
  {
   "cell_type": "code",
   "execution_count": 28,
   "metadata": {},
   "outputs": [],
   "source": [
    "new_column_values = df_old['Readmitted'].values \n",
    "\n",
    "# Add the column to filled_df\n",
    "filled_df['Readmitted'] = new_column_values\n",
    "\n"
   ]
  },
  {
   "cell_type": "code",
   "execution_count": 29,
   "metadata": {},
   "outputs": [
    {
     "name": "stdout",
     "output_type": "stream",
     "text": [
      "{'original': array(['No', 'Yes'], dtype=object), 'encoded': array([0, 1])}\n"
     ]
    }
   ],
   "source": [
    "# label encoding for Readmitted\n",
    "\n",
    "label_encoder = LabelEncoder()\n",
    "filled_df['Readmitted'] = label_encoder.fit_transform(filled_df['Readmitted'])\n",
    "\n",
    "# Get Readmitted unique values and their corresponding encoded values\n",
    "\n",
    "unique_labels = label_encoder.classes_\n",
    "encoded_values = label_encoder.transform(unique_labels)\n",
    "print({'original': unique_labels,'encoded':encoded_values})"
   ]
  },
  {
   "cell_type": "code",
   "execution_count": 30,
   "metadata": {},
   "outputs": [
    {
     "data": {
      "text/html": [
       "<div>\n",
       "<style scoped>\n",
       "    .dataframe tbody tr th:only-of-type {\n",
       "        vertical-align: middle;\n",
       "    }\n",
       "\n",
       "    .dataframe tbody tr th {\n",
       "        vertical-align: top;\n",
       "    }\n",
       "\n",
       "    .dataframe thead th {\n",
       "        text-align: right;\n",
       "    }\n",
       "</style>\n",
       "<table border=\"1\" class=\"dataframe\">\n",
       "  <thead>\n",
       "    <tr style=\"text-align: right;\">\n",
       "      <th></th>\n",
       "      <th>Patient_ID</th>\n",
       "      <th>Age</th>\n",
       "      <th>Gender</th>\n",
       "      <th>Admission_Type</th>\n",
       "      <th>Diagnosis</th>\n",
       "      <th>Num_Lab_Procedures</th>\n",
       "      <th>Num_Medications</th>\n",
       "      <th>Num_Outpatient_Visits</th>\n",
       "      <th>Num_Inpatient_Visits</th>\n",
       "      <th>Num_Emergency_Visits</th>\n",
       "      <th>Num_Diagnoses</th>\n",
       "      <th>A1C_Result</th>\n",
       "      <th>Readmitted</th>\n",
       "    </tr>\n",
       "  </thead>\n",
       "  <tbody>\n",
       "    <tr>\n",
       "      <th>2</th>\n",
       "      <td>3</td>\n",
       "      <td>78</td>\n",
       "      <td>0</td>\n",
       "      <td>2</td>\n",
       "      <td>1</td>\n",
       "      <td>75</td>\n",
       "      <td>29</td>\n",
       "      <td>4</td>\n",
       "      <td>0</td>\n",
       "      <td>3</td>\n",
       "      <td>5</td>\n",
       "      <td>1</td>\n",
       "      <td>1</td>\n",
       "    </tr>\n",
       "    <tr>\n",
       "      <th>7</th>\n",
       "      <td>8</td>\n",
       "      <td>70</td>\n",
       "      <td>0</td>\n",
       "      <td>0</td>\n",
       "      <td>1</td>\n",
       "      <td>28</td>\n",
       "      <td>19</td>\n",
       "      <td>4</td>\n",
       "      <td>0</td>\n",
       "      <td>3</td>\n",
       "      <td>7</td>\n",
       "      <td>1</td>\n",
       "      <td>0</td>\n",
       "    </tr>\n",
       "    <tr>\n",
       "      <th>8</th>\n",
       "      <td>9</td>\n",
       "      <td>19</td>\n",
       "      <td>1</td>\n",
       "      <td>2</td>\n",
       "      <td>2</td>\n",
       "      <td>70</td>\n",
       "      <td>23</td>\n",
       "      <td>1</td>\n",
       "      <td>2</td>\n",
       "      <td>4</td>\n",
       "      <td>6</td>\n",
       "      <td>1</td>\n",
       "      <td>0</td>\n",
       "    </tr>\n",
       "    <tr>\n",
       "      <th>9</th>\n",
       "      <td>10</td>\n",
       "      <td>47</td>\n",
       "      <td>1</td>\n",
       "      <td>1</td>\n",
       "      <td>3</td>\n",
       "      <td>41</td>\n",
       "      <td>24</td>\n",
       "      <td>4</td>\n",
       "      <td>0</td>\n",
       "      <td>0</td>\n",
       "      <td>3</td>\n",
       "      <td>0</td>\n",
       "      <td>1</td>\n",
       "    </tr>\n",
       "    <tr>\n",
       "      <th>11</th>\n",
       "      <td>12</td>\n",
       "      <td>19</td>\n",
       "      <td>0</td>\n",
       "      <td>1</td>\n",
       "      <td>3</td>\n",
       "      <td>68</td>\n",
       "      <td>14</td>\n",
       "      <td>2</td>\n",
       "      <td>4</td>\n",
       "      <td>2</td>\n",
       "      <td>5</td>\n",
       "      <td>0</td>\n",
       "      <td>1</td>\n",
       "    </tr>\n",
       "  </tbody>\n",
       "</table>\n",
       "</div>"
      ],
      "text/plain": [
       "    Patient_ID  Age  Gender  Admission_Type  Diagnosis  Num_Lab_Procedures  \\\n",
       "2            3   78       0               2          1                  75   \n",
       "7            8   70       0               0          1                  28   \n",
       "8            9   19       1               2          2                  70   \n",
       "9           10   47       1               1          3                  41   \n",
       "11          12   19       0               1          3                  68   \n",
       "\n",
       "    Num_Medications  Num_Outpatient_Visits  Num_Inpatient_Visits  \\\n",
       "2                29                      4                     0   \n",
       "7                19                      4                     0   \n",
       "8                23                      1                     2   \n",
       "9                24                      4                     0   \n",
       "11               14                      2                     4   \n",
       "\n",
       "    Num_Emergency_Visits  Num_Diagnoses  A1C_Result  Readmitted  \n",
       "2                      3              5           1           1  \n",
       "7                      3              7           1           0  \n",
       "8                      4              6           1           0  \n",
       "9                      0              3           0           1  \n",
       "11                     2              5           0           1  "
      ]
     },
     "execution_count": 30,
     "metadata": {},
     "output_type": "execute_result"
    }
   ],
   "source": [
    "filled_df.head()"
   ]
  },
  {
   "cell_type": "markdown",
   "metadata": {},
   "source": [
    "#### Summary statistics"
   ]
  },
  {
   "cell_type": "code",
   "execution_count": 31,
   "metadata": {},
   "outputs": [
    {
     "data": {
      "text/html": [
       "<div>\n",
       "<style scoped>\n",
       "    .dataframe tbody tr th:only-of-type {\n",
       "        vertical-align: middle;\n",
       "    }\n",
       "\n",
       "    .dataframe tbody tr th {\n",
       "        vertical-align: top;\n",
       "    }\n",
       "\n",
       "    .dataframe thead th {\n",
       "        text-align: right;\n",
       "    }\n",
       "</style>\n",
       "<table border=\"1\" class=\"dataframe\">\n",
       "  <thead>\n",
       "    <tr style=\"text-align: right;\">\n",
       "      <th></th>\n",
       "      <th>count</th>\n",
       "      <th>mean</th>\n",
       "      <th>std</th>\n",
       "      <th>min</th>\n",
       "      <th>25%</th>\n",
       "      <th>50%</th>\n",
       "      <th>75%</th>\n",
       "      <th>max</th>\n",
       "    </tr>\n",
       "  </thead>\n",
       "  <tbody>\n",
       "    <tr>\n",
       "      <th>Patient_ID</th>\n",
       "      <td>1000.0</td>\n",
       "      <td>500.500</td>\n",
       "      <td>288.819436</td>\n",
       "      <td>1.0</td>\n",
       "      <td>250.75</td>\n",
       "      <td>500.5</td>\n",
       "      <td>750.25</td>\n",
       "      <td>1000.0</td>\n",
       "    </tr>\n",
       "    <tr>\n",
       "      <th>Age</th>\n",
       "      <td>1000.0</td>\n",
       "      <td>51.665</td>\n",
       "      <td>21.989459</td>\n",
       "      <td>18.0</td>\n",
       "      <td>34.00</td>\n",
       "      <td>50.5</td>\n",
       "      <td>69.00</td>\n",
       "      <td>150.0</td>\n",
       "    </tr>\n",
       "    <tr>\n",
       "      <th>Gender</th>\n",
       "      <td>1000.0</td>\n",
       "      <td>0.980</td>\n",
       "      <td>0.808860</td>\n",
       "      <td>0.0</td>\n",
       "      <td>0.00</td>\n",
       "      <td>1.0</td>\n",
       "      <td>2.00</td>\n",
       "      <td>2.0</td>\n",
       "    </tr>\n",
       "    <tr>\n",
       "      <th>Admission_Type</th>\n",
       "      <td>1000.0</td>\n",
       "      <td>0.973</td>\n",
       "      <td>0.814208</td>\n",
       "      <td>0.0</td>\n",
       "      <td>0.00</td>\n",
       "      <td>1.0</td>\n",
       "      <td>2.00</td>\n",
       "      <td>2.0</td>\n",
       "    </tr>\n",
       "    <tr>\n",
       "      <th>Diagnosis</th>\n",
       "      <td>1000.0</td>\n",
       "      <td>1.463</td>\n",
       "      <td>1.132216</td>\n",
       "      <td>0.0</td>\n",
       "      <td>0.00</td>\n",
       "      <td>1.0</td>\n",
       "      <td>2.00</td>\n",
       "      <td>3.0</td>\n",
       "    </tr>\n",
       "    <tr>\n",
       "      <th>Num_Lab_Procedures</th>\n",
       "      <td>1000.0</td>\n",
       "      <td>50.836</td>\n",
       "      <td>28.075137</td>\n",
       "      <td>1.0</td>\n",
       "      <td>27.00</td>\n",
       "      <td>52.0</td>\n",
       "      <td>75.00</td>\n",
       "      <td>99.0</td>\n",
       "    </tr>\n",
       "    <tr>\n",
       "      <th>Num_Medications</th>\n",
       "      <td>1000.0</td>\n",
       "      <td>15.661</td>\n",
       "      <td>8.230177</td>\n",
       "      <td>1.0</td>\n",
       "      <td>9.00</td>\n",
       "      <td>16.0</td>\n",
       "      <td>23.00</td>\n",
       "      <td>35.0</td>\n",
       "    </tr>\n",
       "    <tr>\n",
       "      <th>Num_Outpatient_Visits</th>\n",
       "      <td>1000.0</td>\n",
       "      <td>2.016</td>\n",
       "      <td>1.399894</td>\n",
       "      <td>0.0</td>\n",
       "      <td>1.00</td>\n",
       "      <td>2.0</td>\n",
       "      <td>3.00</td>\n",
       "      <td>4.0</td>\n",
       "    </tr>\n",
       "    <tr>\n",
       "      <th>Num_Inpatient_Visits</th>\n",
       "      <td>1000.0</td>\n",
       "      <td>2.019</td>\n",
       "      <td>1.416561</td>\n",
       "      <td>0.0</td>\n",
       "      <td>1.00</td>\n",
       "      <td>2.0</td>\n",
       "      <td>3.00</td>\n",
       "      <td>4.0</td>\n",
       "    </tr>\n",
       "    <tr>\n",
       "      <th>Num_Emergency_Visits</th>\n",
       "      <td>1000.0</td>\n",
       "      <td>1.956</td>\n",
       "      <td>1.409983</td>\n",
       "      <td>0.0</td>\n",
       "      <td>1.00</td>\n",
       "      <td>2.0</td>\n",
       "      <td>3.00</td>\n",
       "      <td>4.0</td>\n",
       "    </tr>\n",
       "    <tr>\n",
       "      <th>Num_Diagnoses</th>\n",
       "      <td>1000.0</td>\n",
       "      <td>5.011</td>\n",
       "      <td>2.664203</td>\n",
       "      <td>1.0</td>\n",
       "      <td>3.00</td>\n",
       "      <td>5.0</td>\n",
       "      <td>7.00</td>\n",
       "      <td>9.0</td>\n",
       "    </tr>\n",
       "    <tr>\n",
       "      <th>A1C_Result</th>\n",
       "      <td>1000.0</td>\n",
       "      <td>0.439</td>\n",
       "      <td>0.496513</td>\n",
       "      <td>0.0</td>\n",
       "      <td>0.00</td>\n",
       "      <td>0.0</td>\n",
       "      <td>1.00</td>\n",
       "      <td>1.0</td>\n",
       "    </tr>\n",
       "    <tr>\n",
       "      <th>Readmitted</th>\n",
       "      <td>1000.0</td>\n",
       "      <td>0.497</td>\n",
       "      <td>0.500241</td>\n",
       "      <td>0.0</td>\n",
       "      <td>0.00</td>\n",
       "      <td>0.0</td>\n",
       "      <td>1.00</td>\n",
       "      <td>1.0</td>\n",
       "    </tr>\n",
       "  </tbody>\n",
       "</table>\n",
       "</div>"
      ],
      "text/plain": [
       "                        count     mean         std   min     25%    50%  \\\n",
       "Patient_ID             1000.0  500.500  288.819436   1.0  250.75  500.5   \n",
       "Age                    1000.0   51.665   21.989459  18.0   34.00   50.5   \n",
       "Gender                 1000.0    0.980    0.808860   0.0    0.00    1.0   \n",
       "Admission_Type         1000.0    0.973    0.814208   0.0    0.00    1.0   \n",
       "Diagnosis              1000.0    1.463    1.132216   0.0    0.00    1.0   \n",
       "Num_Lab_Procedures     1000.0   50.836   28.075137   1.0   27.00   52.0   \n",
       "Num_Medications        1000.0   15.661    8.230177   1.0    9.00   16.0   \n",
       "Num_Outpatient_Visits  1000.0    2.016    1.399894   0.0    1.00    2.0   \n",
       "Num_Inpatient_Visits   1000.0    2.019    1.416561   0.0    1.00    2.0   \n",
       "Num_Emergency_Visits   1000.0    1.956    1.409983   0.0    1.00    2.0   \n",
       "Num_Diagnoses          1000.0    5.011    2.664203   1.0    3.00    5.0   \n",
       "A1C_Result             1000.0    0.439    0.496513   0.0    0.00    0.0   \n",
       "Readmitted             1000.0    0.497    0.500241   0.0    0.00    0.0   \n",
       "\n",
       "                          75%     max  \n",
       "Patient_ID             750.25  1000.0  \n",
       "Age                     69.00   150.0  \n",
       "Gender                   2.00     2.0  \n",
       "Admission_Type           2.00     2.0  \n",
       "Diagnosis                2.00     3.0  \n",
       "Num_Lab_Procedures      75.00    99.0  \n",
       "Num_Medications         23.00    35.0  \n",
       "Num_Outpatient_Visits    3.00     4.0  \n",
       "Num_Inpatient_Visits     3.00     4.0  \n",
       "Num_Emergency_Visits     3.00     4.0  \n",
       "Num_Diagnoses            7.00     9.0  \n",
       "A1C_Result               1.00     1.0  \n",
       "Readmitted               1.00     1.0  "
      ]
     },
     "execution_count": 31,
     "metadata": {},
     "output_type": "execute_result"
    }
   ],
   "source": [
    "filled_df.describe().T"
   ]
  },
  {
   "cell_type": "markdown",
   "metadata": {},
   "source": [
    "#### Outliers detection"
   ]
  },
  {
   "cell_type": "code",
   "execution_count": 32,
   "metadata": {},
   "outputs": [
    {
     "name": "stdout",
     "output_type": "stream",
     "text": [
      "\n",
      "Outliers:\n",
      "Patient_ID                0\n",
      "Age                      10\n",
      "Gender                    0\n",
      "Admission_Type            0\n",
      "Diagnosis                 0\n",
      "Num_Lab_Procedures        0\n",
      "Num_Medications           0\n",
      "Num_Outpatient_Visits     0\n",
      "Num_Inpatient_Visits      0\n",
      "Num_Emergency_Visits      0\n",
      "Num_Diagnoses             0\n",
      "A1C_Result                0\n",
      "Readmitted                0\n",
      "dtype: int64\n"
     ]
    }
   ],
   "source": [
    "Q1= filled_df.quantile(0.25)\n",
    "Q3 = filled_df.quantile(0.75)\n",
    "\n",
    "IQR = Q3-Q1\n",
    "\n",
    "threshold = 1.5\n",
    "\n",
    "outliers = (filled_df < (Q1 - threshold * IQR)) | (filled_df > (Q3 + threshold * IQR))\n",
    "\n",
    "print(\"\\nOutliers:\")\n",
    "print(outliers.sum())"
   ]
  },
  {
   "cell_type": "code",
   "execution_count": 33,
   "metadata": {},
   "outputs": [
    {
     "data": {
      "image/png": "[encoded data removed]",
      "text/plain": [
       "<Figure size 1200x800 with 1 Axes>"
      ]
     },
     "metadata": {},
     "output_type": "display_data"
    }
   ],
   "source": [
    "import seaborn as sns\n",
    "\n",
    "# create box plot for outliers\n",
    "\n",
    "plt.figure(figsize=(12, 8))\n",
    "sns.boxplot(data = filled_df)\n",
    "plt.title(\"BoxPlot showing Outliers\")\n",
    "plt.xticks(rotation=45)\n",
    "plt.show()"
   ]
  },
  {
   "cell_type": "code",
   "execution_count": 34,
   "metadata": {},
   "outputs": [
    {
     "data": {
      "image/png": "[encoded data removed]",
      "text/plain": [
       "<Figure size 600x400 with 1 Axes>"
      ]
     },
     "metadata": {},
     "output_type": "display_data"
    }
   ],
   "source": [
    "plt.figure(figsize=(6, 4))\n",
    "sns.boxplot(x=filled_df['Age'])\n",
    "plt.title('Box Plot of Age (Outlier Detection)')\n",
    "plt.xlabel('Age')\n",
    "plt.show()\n"
   ]
  },
  {
   "cell_type": "code",
   "execution_count": 35,
   "metadata": {},
   "outputs": [],
   "source": [
    "# replace the outlier values (values greater than 100) with the mean age\n",
    "\n",
    "mean_age = filled_df['Age'].mean()\n",
    "filled_df['Age'] = filled_df['Age'].apply(lambda x: mean_age if x > 100 else x)"
   ]
  },
  {
   "cell_type": "code",
   "execution_count": 36,
   "metadata": {},
   "outputs": [
    {
     "data": {
      "image/png": "[encoded data removed]",
      "text/plain": [
       "<Figure size 600x400 with 1 Axes>"
      ]
     },
     "metadata": {},
     "output_type": "display_data"
    }
   ],
   "source": [
    "plt.figure(figsize=(6, 4))\n",
    "sns.boxplot(x=filled_df['Age'])\n",
    "plt.title('Box Plot of Age (After Outlier )')\n",
    "plt.xlabel('Age')\n",
    "plt.show()"
   ]
  },
  {
   "cell_type": "code",
   "execution_count": 37,
   "metadata": {},
   "outputs": [
    {
     "name": "stdout",
     "output_type": "stream",
     "text": [
      "<class 'pandas.core.frame.DataFrame'>\n",
      "Index: 1000 entries, 2 to 994\n",
      "Data columns (total 13 columns):\n",
      " #   Column                 Non-Null Count  Dtype  \n",
      "---  ------                 --------------  -----  \n",
      " 0   Patient_ID             1000 non-null   int64  \n",
      " 1   Age                    1000 non-null   float64\n",
      " 2   Gender                 1000 non-null   int32  \n",
      " 3   Admission_Type         1000 non-null   int32  \n",
      " 4   Diagnosis              1000 non-null   int32  \n",
      " 5   Num_Lab_Procedures     1000 non-null   int64  \n",
      " 6   Num_Medications        1000 non-null   int64  \n",
      " 7   Num_Outpatient_Visits  1000 non-null   int64  \n",
      " 8   Num_Inpatient_Visits   1000 non-null   int64  \n",
      " 9   Num_Emergency_Visits   1000 non-null   int64  \n",
      " 10  Num_Diagnoses          1000 non-null   int64  \n",
      " 11  A1C_Result             1000 non-null   int32  \n",
      " 12  Readmitted             1000 non-null   int32  \n",
      "dtypes: float64(1), int32(5), int64(7)\n",
      "memory usage: 89.8 KB\n"
     ]
    }
   ],
   "source": [
    "filled_df.info()"
   ]
  },
  {
   "cell_type": "markdown",
   "metadata": {},
   "source": [
    "#### Feature Selection "
   ]
  },
  {
   "cell_type": "markdown",
   "metadata": {},
   "source": [
    "#### Chi Square and ANOVA"
   ]
  },
  {
   "cell_type": "code",
   "execution_count": 38,
   "metadata": {},
   "outputs": [
    {
     "name": "stdout",
     "output_type": "stream",
     "text": [
      "Chi-square scores for categorical features:\n",
      "[1.64006404e+01 2.11105310e+00 2.17054181e+00 2.73866427e-02\n",
      " 2.16041464e-01 5.67307748e+00 1.41829594e+00 2.03791921e+00\n",
      " 2.50489503e+00 8.07263057e-01 1.87601166e-03 2.11428924e-01]\n",
      "\n",
      "ANOVA F-test scores for numerical features:\n",
      "[9.83150242e-02 2.77142262e-01 3.25858039e+00 4.01572453e-02\n",
      " 2.46374167e-01 3.65654112e-01 3.27699383e-01 2.09876823e+00\n",
      " 2.52416218e+00 7.94084376e-01 1.32309485e-03 3.76266701e-01]\n"
     ]
    }
   ],
   "source": [
    "from sklearn.feature_selection import SelectKBest, chi2, f_classif\n",
    "\n",
    "# Split features and target variable\n",
    "\n",
    "X = filled_df.drop(columns=['Readmitted'])  # Features\n",
    "y = filled_df['Readmitted']  # Target variable\n",
    "\n",
    "# Perform univariate feature selection\n",
    "selector = SelectKBest(score_func=chi2, k='all')  # Use chi-square test for categorical features\n",
    "X_chi2 = selector.fit_transform(X, y)\n",
    "chi2_scores = selector.scores_\n",
    "\n",
    "selector = SelectKBest(score_func=f_classif, k='all')  # Use ANOVA F-test for numerical features\n",
    "X_f_classif = selector.fit_transform(X, y)\n",
    "f_classif_scores = selector.scores_\n",
    "\n",
    "# Print feature scores\n",
    "print(\"Chi-square scores for categorical features:\")\n",
    "print(chi2_scores)\n",
    "\n",
    "print(\"\\nANOVA F-test scores for numerical features:\")\n",
    "print(f_classif_scores)"
   ]
  },
  {
   "cell_type": "code",
   "execution_count": 39,
   "metadata": {},
   "outputs": [
    {
     "name": "stdout",
     "output_type": "stream",
     "text": [
      "Top features with highest chi-square scores:\n",
      "                  Feature  Chi-square Score\n",
      "0              Patient_ID         16.400640\n",
      "5      Num_Lab_Procedures          5.673077\n",
      "8    Num_Inpatient_Visits          2.504895\n",
      "2                  Gender          2.170542\n",
      "1                     Age          2.111053\n",
      "7   Num_Outpatient_Visits          2.037919\n",
      "6         Num_Medications          1.418296\n",
      "9    Num_Emergency_Visits          0.807263\n",
      "4               Diagnosis          0.216041\n",
      "11             A1C_Result          0.211429\n",
      "3          Admission_Type          0.027387\n",
      "10          Num_Diagnoses          0.001876\n",
      "\n",
      "Top features with highest ANOVA F-test scores:\n",
      "                  Feature  ANOVA F-test Score\n",
      "0              Patient_ID            0.098315\n",
      "5      Num_Lab_Procedures            0.365654\n",
      "8    Num_Inpatient_Visits            2.524162\n",
      "2                  Gender            3.258580\n",
      "1                     Age            0.277142\n",
      "7   Num_Outpatient_Visits            2.098768\n",
      "6         Num_Medications            0.327699\n",
      "9    Num_Emergency_Visits            0.794084\n",
      "4               Diagnosis            0.246374\n",
      "11             A1C_Result            0.376267\n",
      "3          Admission_Type            0.040157\n",
      "10          Num_Diagnoses            0.001323\n"
     ]
    }
   ],
   "source": [
    "# Create DataFrame with feature names and corresponding scores\n",
    "feature_scores = pd.DataFrame({'Feature': X.columns, 'Chi-square Score': chi2_scores, 'ANOVA F-test Score': f_classif_scores})\n",
    "\n",
    "# Sort the DataFrame by scores in descending order\n",
    "sorted_feature_scores = feature_scores.sort_values(by=['Chi-square Score', 'ANOVA F-test Score'], ascending=False)\n",
    "\n",
    "# Print the top features with highest scores\n",
    "print(\"Top features with highest chi-square scores:\")\n",
    "print(sorted_feature_scores[['Feature', 'Chi-square Score']])\n",
    "\n",
    "print(\"\\nTop features with highest ANOVA F-test scores:\")\n",
    "print(sorted_feature_scores[['Feature', 'ANOVA F-test Score']])"
   ]
  },
  {
   "cell_type": "markdown",
   "metadata": {},
   "source": [
    "#### Model building with statistically significant column"
   ]
  },
  {
   "cell_type": "code",
   "execution_count": 41,
   "metadata": {},
   "outputs": [],
   "source": [
    "X = filled_df[['Age','Gender','Num_Lab_Procedures','Num_Inpatient_Visits','Num_Outpatient_Visits']]\n",
    "y = filled_df['Readmitted']"
   ]
  },
  {
   "cell_type": "code",
   "execution_count": 42,
   "metadata": {},
   "outputs": [],
   "source": [
    "from sklearn.model_selection import train_test_split\n",
    "from sklearn.preprocessing import StandardScaler\n",
    "from sklearn.linear_model import LogisticRegression\n",
    "from sklearn.metrics import accuracy_score\n",
    "from sklearn.model_selection import GridSearchCV\n",
    "\n",
    "# Split the dataset into training and testing sets\n",
    "X_train, X_test, y_train, y_test = train_test_split(X, y, test_size=0.2, random_state=42)\n"
   ]
  },
  {
   "cell_type": "markdown",
   "metadata": {},
   "source": [
    "#### Scaling"
   ]
  },
  {
   "cell_type": "code",
   "execution_count": 43,
   "metadata": {},
   "outputs": [],
   "source": [
    "# Scale the features\n",
    "scaler = StandardScaler()\n",
    "X_train_scaled = scaler.fit_transform(X_train)\n",
    "X_test_scaled = scaler.transform(X_test)"
   ]
  },
  {
   "cell_type": "markdown",
   "metadata": {},
   "source": [
    "#### Logistic regression model"
   ]
  },
  {
   "cell_type": "code",
   "execution_count": 44,
   "metadata": {},
   "outputs": [
    {
     "data": {
      "text/html": [
       "<style>#sk-container-id-2 {color: black;}#sk-container-id-2 pre{padding: 0;}#sk-container-id-2 div.sk-toggleable {background-color: white;}#sk-container-id-2 label.sk-toggleable__label {cursor: pointer;display: block;width: 100%;margin-bottom: 0;padding: 0.3em;box-sizing: border-box;text-align: center;}#sk-container-id-2 label.sk-toggleable__label-arrow:before {content: \"▸\";float: left;margin-right: 0.25em;color: #696969;}#sk-container-id-2 label.sk-toggleable__label-arrow:hover:before {color: black;}#sk-container-id-2 div.sk-estimator:hover label.sk-toggleable__label-arrow:before {color: black;}#sk-container-id-2 div.sk-toggleable__content {max-height: 0;max-width: 0;overflow: hidden;text-align: left;background-color: #f0f8ff;}#sk-container-id-2 div.sk-toggleable__content pre {margin: 0.2em;color: black;border-radius: 0.25em;background-color: #f0f8ff;}#sk-container-id-2 input.sk-toggleable__control:checked~div.sk-toggleable__content {max-height: 200px;max-width: 100%;overflow: auto;}#sk-container-id-2 input.sk-toggleable__control:checked~label.sk-toggleable__label-arrow:before {content: \"▾\";}#sk-container-id-2 div.sk-estimator input.sk-toggleable__control:checked~label.sk-toggleable__label {background-color: #d4ebff;}#sk-container-id-2 div.sk-label input.sk-toggleable__control:checked~label.sk-toggleable__label {background-color: #d4ebff;}#sk-container-id-2 input.sk-hidden--visually {border: 0;clip: rect(1px 1px 1px 1px);clip: rect(1px, 1px, 1px, 1px);height: 1px;margin: -1px;overflow: hidden;padding: 0;position: absolute;width: 1px;}#sk-container-id-2 div.sk-estimator {font-family: monospace;background-color: #f0f8ff;border: 1px dotted black;border-radius: 0.25em;box-sizing: border-box;margin-bottom: 0.5em;}#sk-container-id-2 div.sk-estimator:hover {background-color: #d4ebff;}#sk-container-id-2 div.sk-parallel-item::after {content: \"\";width: 100%;border-bottom: 1px solid gray;flex-grow: 1;}#sk-container-id-2 div.sk-label:hover label.sk-toggleable__label {background-color: #d4ebff;}#sk-container-id-2 div.sk-serial::before {content: \"\";position: absolute;border-left: 1px solid gray;box-sizing: border-box;top: 0;bottom: 0;left: 50%;z-index: 0;}#sk-container-id-2 div.sk-serial {display: flex;flex-direction: column;align-items: center;background-color: white;padding-right: 0.2em;padding-left: 0.2em;position: relative;}#sk-container-id-2 div.sk-item {position: relative;z-index: 1;}#sk-container-id-2 div.sk-parallel {display: flex;align-items: stretch;justify-content: center;background-color: white;position: relative;}#sk-container-id-2 div.sk-item::before, #sk-container-id-2 div.sk-parallel-item::before {content: \"\";position: absolute;border-left: 1px solid gray;box-sizing: border-box;top: 0;bottom: 0;left: 50%;z-index: -1;}#sk-container-id-2 div.sk-parallel-item {display: flex;flex-direction: column;z-index: 1;position: relative;background-color: white;}#sk-container-id-2 div.sk-parallel-item:first-child::after {align-self: flex-end;width: 50%;}#sk-container-id-2 div.sk-parallel-item:last-child::after {align-self: flex-start;width: 50%;}#sk-container-id-2 div.sk-parallel-item:only-child::after {width: 0;}#sk-container-id-2 div.sk-dashed-wrapped {border: 1px dashed gray;margin: 0 0.4em 0.5em 0.4em;box-sizing: border-box;padding-bottom: 0.4em;background-color: white;}#sk-container-id-2 div.sk-label label {font-family: monospace;font-weight: bold;display: inline-block;line-height: 1.2em;}#sk-container-id-2 div.sk-label-container {text-align: center;}#sk-container-id-2 div.sk-container {/* jupyter's `normalize.less` sets `[hidden] { display: none; }` but bootstrap.min.css set `[hidden] { display: none !important; }` so we also need the `!important` here to be able to override the default hidden behavior on the sphinx rendered scikit-learn.org. See: https://github.com/scikit-learn/scikit-learn/issues/21755 */display: inline-block !important;position: relative;}#sk-container-id-2 div.sk-text-repr-fallback {display: none;}</style><div id=\"sk-container-id-2\" class=\"sk-top-container\"><div class=\"sk-text-repr-fallback\"><pre>LogisticRegression()</pre><b>In a Jupyter environment, please rerun this cell to show the HTML representation or trust the notebook. <br />On GitHub, the HTML representation is unable to render, please try loading this page with nbviewer.org.</b></div><div class=\"sk-container\" hidden><div class=\"sk-item\"><div class=\"sk-estimator sk-toggleable\"><input class=\"sk-toggleable__control sk-hidden--visually\" id=\"sk-estimator-id-2\" type=\"checkbox\" checked><label for=\"sk-estimator-id-2\" class=\"sk-toggleable__label sk-toggleable__label-arrow\">LogisticRegression</label><div class=\"sk-toggleable__content\"><pre>LogisticRegression()</pre></div></div></div></div></div>"
      ],
      "text/plain": [
       "LogisticRegression()"
      ]
     },
     "execution_count": 44,
     "metadata": {},
     "output_type": "execute_result"
    }
   ],
   "source": [
    "# Initialize and train a logistic regression model\n",
    "model = LogisticRegression()\n",
    "model.fit(X_train_scaled, y_train)"
   ]
  },
  {
   "cell_type": "code",
   "execution_count": 45,
   "metadata": {},
   "outputs": [
    {
     "name": "stdout",
     "output_type": "stream",
     "text": [
      "Accuracy: 0.49\n"
     ]
    }
   ],
   "source": [
    "\n",
    "# Predict the target variable on the testing set\n",
    "y_pred = model.predict(X_test_scaled)\n",
    "\n",
    "# Evaluate the model's performance\n",
    "accuracy = accuracy_score(y_test, y_pred)\n",
    "print(\"Accuracy:\", accuracy)\n"
   ]
  },
  {
   "cell_type": "markdown",
   "metadata": {},
   "source": [
    "#### Hyperparameter tuning"
   ]
  },
  {
   "cell_type": "code",
   "execution_count": 46,
   "metadata": {},
   "outputs": [],
   "source": [
    "# Define the parameter grid to search\n",
    "param_grid = {\n",
    "    'n_estimators': [50, 100, 150],  # Number of trees in the forest\n",
    "    'max_depth': [None, 10, 20],  # Maximum depth of the trees\n",
    "    'min_samples_split': [2, 5, 10],  # Minimum number of samples required to split a node\n",
    "    'min_samples_leaf': [1, 2, 4]  # Minimum number of samples required at each leaf node\n",
    "}"
   ]
  },
  {
   "cell_type": "markdown",
   "metadata": {},
   "source": [
    "#### Random Forest Classifier"
   ]
  },
  {
   "cell_type": "code",
   "execution_count": 47,
   "metadata": {},
   "outputs": [],
   "source": [
    "# Initialize Random Forest classifier\n",
    "rf_classifier = RandomForestClassifier(random_state=42)"
   ]
  },
  {
   "cell_type": "code",
   "execution_count": 48,
   "metadata": {},
   "outputs": [],
   "source": [
    "# Initialize GridSearchCV with the classifier and parameter grid\n",
    "\n",
    "grid_search = GridSearchCV(estimator=rf_classifier, param_grid=param_grid, cv=5, scoring='accuracy')\n"
   ]
  },
  {
   "cell_type": "code",
   "execution_count": 49,
   "metadata": {},
   "outputs": [
    {
     "name": "stdout",
     "output_type": "stream",
     "text": [
      "Best Hyperparameters: {'max_depth': 10, 'min_samples_leaf': 4, 'min_samples_split': 10, 'n_estimators': 50}\n"
     ]
    }
   ],
   "source": [
    "# Perform grid search cross-validation\n",
    "grid_search.fit(X_train_scaled, y_train)\n",
    "\n",
    "# Get the best hyperparameters found by GridSearchCV\n",
    "best_params = grid_search.best_params_\n",
    "print(\"Best Hyperparameters:\", best_params)\n",
    "\n",
    "# Get the best model\n",
    "best_rf_model = grid_search.best_estimator_\n"
   ]
  },
  {
   "cell_type": "code",
   "execution_count": 50,
   "metadata": {},
   "outputs": [
    {
     "name": "stdout",
     "output_type": "stream",
     "text": [
      "Accuracy: 0.475\n",
      "Confusion Matrix:\n",
      "[[52 49]\n",
      " [56 43]]\n",
      "Classification Report:\n",
      "              precision    recall  f1-score   support\n",
      "\n",
      "           0       0.48      0.51      0.50       101\n",
      "           1       0.47      0.43      0.45        99\n",
      "\n",
      "    accuracy                           0.48       200\n",
      "   macro avg       0.47      0.47      0.47       200\n",
      "weighted avg       0.47      0.47      0.47       200\n",
      "\n"
     ]
    }
   ],
   "source": [
    "# Predict the target variable on the testing set using the best model\n",
    "y_pred = best_rf_model.predict(X_test_scaled)\n",
    "\n",
    "# Evaluate the model's performance\n",
    "accuracy = accuracy_score(y_test, y_pred)\n",
    "conf_matrix = confusion_matrix(y_test, y_pred)\n",
    "class_report = classification_report(y_test, y_pred)\n",
    "\n",
    "print(f\"Accuracy: {accuracy}\")\n",
    "print(f\"Confusion Matrix:\\n{conf_matrix}\")\n",
    "print(f\"Classification Report:\\n{class_report}\")"
   ]
  },
  {
   "cell_type": "markdown",
   "metadata": {},
   "source": [
    "#### Gradient Boosting Machine"
   ]
  },
  {
   "cell_type": "code",
   "execution_count": 51,
   "metadata": {},
   "outputs": [],
   "source": [
    "from sklearn.ensemble import GradientBoostingClassifier\n",
    "\n",
    "gbm_model = GradientBoostingClassifier()"
   ]
  },
  {
   "cell_type": "code",
   "execution_count": 52,
   "metadata": {},
   "outputs": [
    {
     "data": {
      "text/html": [
       "<style>#sk-container-id-3 {color: black;}#sk-container-id-3 pre{padding: 0;}#sk-container-id-3 div.sk-toggleable {background-color: white;}#sk-container-id-3 label.sk-toggleable__label {cursor: pointer;display: block;width: 100%;margin-bottom: 0;padding: 0.3em;box-sizing: border-box;text-align: center;}#sk-container-id-3 label.sk-toggleable__label-arrow:before {content: \"▸\";float: left;margin-right: 0.25em;color: #696969;}#sk-container-id-3 label.sk-toggleable__label-arrow:hover:before {color: black;}#sk-container-id-3 div.sk-estimator:hover label.sk-toggleable__label-arrow:before {color: black;}#sk-container-id-3 div.sk-toggleable__content {max-height: 0;max-width: 0;overflow: hidden;text-align: left;background-color: #f0f8ff;}#sk-container-id-3 div.sk-toggleable__content pre {margin: 0.2em;color: black;border-radius: 0.25em;background-color: #f0f8ff;}#sk-container-id-3 input.sk-toggleable__control:checked~div.sk-toggleable__content {max-height: 200px;max-width: 100%;overflow: auto;}#sk-container-id-3 input.sk-toggleable__control:checked~label.sk-toggleable__label-arrow:before {content: \"▾\";}#sk-container-id-3 div.sk-estimator input.sk-toggleable__control:checked~label.sk-toggleable__label {background-color: #d4ebff;}#sk-container-id-3 div.sk-label input.sk-toggleable__control:checked~label.sk-toggleable__label {background-color: #d4ebff;}#sk-container-id-3 input.sk-hidden--visually {border: 0;clip: rect(1px 1px 1px 1px);clip: rect(1px, 1px, 1px, 1px);height: 1px;margin: -1px;overflow: hidden;padding: 0;position: absolute;width: 1px;}#sk-container-id-3 div.sk-estimator {font-family: monospace;background-color: #f0f8ff;border: 1px dotted black;border-radius: 0.25em;box-sizing: border-box;margin-bottom: 0.5em;}#sk-container-id-3 div.sk-estimator:hover {background-color: #d4ebff;}#sk-container-id-3 div.sk-parallel-item::after {content: \"\";width: 100%;border-bottom: 1px solid gray;flex-grow: 1;}#sk-container-id-3 div.sk-label:hover label.sk-toggleable__label {background-color: #d4ebff;}#sk-container-id-3 div.sk-serial::before {content: \"\";position: absolute;border-left: 1px solid gray;box-sizing: border-box;top: 0;bottom: 0;left: 50%;z-index: 0;}#sk-container-id-3 div.sk-serial {display: flex;flex-direction: column;align-items: center;background-color: white;padding-right: 0.2em;padding-left: 0.2em;position: relative;}#sk-container-id-3 div.sk-item {position: relative;z-index: 1;}#sk-container-id-3 div.sk-parallel {display: flex;align-items: stretch;justify-content: center;background-color: white;position: relative;}#sk-container-id-3 div.sk-item::before, #sk-container-id-3 div.sk-parallel-item::before {content: \"\";position: absolute;border-left: 1px solid gray;box-sizing: border-box;top: 0;bottom: 0;left: 50%;z-index: -1;}#sk-container-id-3 div.sk-parallel-item {display: flex;flex-direction: column;z-index: 1;position: relative;background-color: white;}#sk-container-id-3 div.sk-parallel-item:first-child::after {align-self: flex-end;width: 50%;}#sk-container-id-3 div.sk-parallel-item:last-child::after {align-self: flex-start;width: 50%;}#sk-container-id-3 div.sk-parallel-item:only-child::after {width: 0;}#sk-container-id-3 div.sk-dashed-wrapped {border: 1px dashed gray;margin: 0 0.4em 0.5em 0.4em;box-sizing: border-box;padding-bottom: 0.4em;background-color: white;}#sk-container-id-3 div.sk-label label {font-family: monospace;font-weight: bold;display: inline-block;line-height: 1.2em;}#sk-container-id-3 div.sk-label-container {text-align: center;}#sk-container-id-3 div.sk-container {/* jupyter's `normalize.less` sets `[hidden] { display: none; }` but bootstrap.min.css set `[hidden] { display: none !important; }` so we also need the `!important` here to be able to override the default hidden behavior on the sphinx rendered scikit-learn.org. See: https://github.com/scikit-learn/scikit-learn/issues/21755 */display: inline-block !important;position: relative;}#sk-container-id-3 div.sk-text-repr-fallback {display: none;}</style><div id=\"sk-container-id-3\" class=\"sk-top-container\"><div class=\"sk-text-repr-fallback\"><pre>GradientBoostingClassifier()</pre><b>In a Jupyter environment, please rerun this cell to show the HTML representation or trust the notebook. <br />On GitHub, the HTML representation is unable to render, please try loading this page with nbviewer.org.</b></div><div class=\"sk-container\" hidden><div class=\"sk-item\"><div class=\"sk-estimator sk-toggleable\"><input class=\"sk-toggleable__control sk-hidden--visually\" id=\"sk-estimator-id-3\" type=\"checkbox\" checked><label for=\"sk-estimator-id-3\" class=\"sk-toggleable__label sk-toggleable__label-arrow\">GradientBoostingClassifier</label><div class=\"sk-toggleable__content\"><pre>GradientBoostingClassifier()</pre></div></div></div></div></div>"
      ],
      "text/plain": [
       "GradientBoostingClassifier()"
      ]
     },
     "execution_count": 52,
     "metadata": {},
     "output_type": "execute_result"
    }
   ],
   "source": [
    "# train the model\n",
    "\n",
    "gbm_model.fit(X_train_scaled,y_train)"
   ]
  },
  {
   "cell_type": "code",
   "execution_count": 53,
   "metadata": {},
   "outputs": [],
   "source": [
    "# predict the model \n",
    "y_pred_gbm = gbm_model.predict(X_test_scaled)"
   ]
  },
  {
   "cell_type": "code",
   "execution_count": 54,
   "metadata": {},
   "outputs": [
    {
     "name": "stdout",
     "output_type": "stream",
     "text": [
      "Accuracy: 0.51\n",
      "Confusion Matrix:\n",
      "[[54 47]\n",
      " [51 48]]\n",
      "Classification Report:\n",
      "              precision    recall  f1-score   support\n",
      "\n",
      "           0       0.51      0.53      0.52       101\n",
      "           1       0.51      0.48      0.49        99\n",
      "\n",
      "    accuracy                           0.51       200\n",
      "   macro avg       0.51      0.51      0.51       200\n",
      "weighted avg       0.51      0.51      0.51       200\n",
      "\n"
     ]
    }
   ],
   "source": [
    "# Evaluate the model\n",
    "accuracy = accuracy_score(y_test, y_pred_gbm)\n",
    "conf_matrix = confusion_matrix(y_test, y_pred_gbm)\n",
    "class_report = classification_report(y_test, y_pred_gbm)\n",
    "\n",
    "print(f\"Accuracy: {accuracy}\")\n",
    "print(f\"Confusion Matrix:\\n{conf_matrix}\")\n",
    "print(f\"Classification Report:\\n{class_report}\")"
   ]
  },
  {
   "cell_type": "markdown",
   "metadata": {},
   "source": [
    "#### predictions"
   ]
  },
  {
   "cell_type": "code",
   "execution_count": 55,
   "metadata": {},
   "outputs": [
    {
     "name": "stdout",
     "output_type": "stream",
     "text": [
      "Random Forest - Number of High-Risk Patients: 199\n",
      "Gradient Boosting - Number of High-Risk Patients: 198\n"
     ]
    },
    {
     "name": "stderr",
     "output_type": "stream",
     "text": [
      "c:\\Users\\Parthi\\AppData\\Local\\Programs\\Python\\Python312\\Lib\\site-packages\\sklearn\\base.py:458: UserWarning: X has feature names, but RandomForestClassifier was fitted without feature names\n",
      "  warnings.warn(\n",
      "c:\\Users\\Parthi\\AppData\\Local\\Programs\\Python\\Python312\\Lib\\site-packages\\sklearn\\base.py:458: UserWarning: X has feature names, but GradientBoostingClassifier was fitted without feature names\n",
      "  warnings.warn(\n"
     ]
    }
   ],
   "source": [
    "# Make predictions\n",
    "rf_predictions = best_rf_model.predict_proba(X_test)[:, 1]  # Predict probabilities of positive class\n",
    "gb_predictions = gbm_model.predict_proba(X_test)[:, 1]\n",
    "\n",
    "# Define threshold\n",
    "threshold = 0.5  \n",
    "\n",
    "# Identify high-risk patients\n",
    "rf_high_risk_patients = rf_predictions > threshold\n",
    "gb_high_risk_patients = gb_predictions > threshold\n",
    "\n",
    "# Count high-risk patients\n",
    "num_rf_high_risk_patients = sum(rf_high_risk_patients)\n",
    "num_gb_high_risk_patients = sum(gb_high_risk_patients)\n",
    "\n",
    "print(\"Random Forest - Number of High-Risk Patients:\", num_rf_high_risk_patients)\n",
    "print(\"Gradient Boosting - Number of High-Risk Patients:\", num_gb_high_risk_patients)"
   ]
  },
  {
   "cell_type": "markdown",
   "metadata": {},
   "source": [
    "#### creating sample data for predictions"
   ]
  },
  {
   "cell_type": "code",
   "execution_count": 56,
   "metadata": {},
   "outputs": [],
   "source": [
    "# Define the number of samples to generate\n",
    "num_samples = 100\n",
    "\n",
    "# Create sample data by sampling with replacement from the original data\n",
    "sample_data = filled_df.sample(n=num_samples, replace=True)\n",
    "\n",
    "# Reset the index of the sample data\n",
    "sample_data.reset_index(drop=True, inplace=True)\n"
   ]
  },
  {
   "cell_type": "code",
   "execution_count": 57,
   "metadata": {},
   "outputs": [],
   "source": [
    "# List of selected features\n",
    "selected_features = ['Age','Gender','Num_Lab_Procedures','Num_Inpatient_Visits','Num_Outpatient_Visits']\n",
    "\n",
    "# Create a new DataFrame containing only the selected features\n",
    "sample_data = filled_df[selected_features].copy()"
   ]
  },
  {
   "cell_type": "code",
   "execution_count": 58,
   "metadata": {},
   "outputs": [],
   "source": [
    "from sklearn.preprocessing import StandardScaler\n",
    "\n",
    "# Initialize the StandardScaler\n",
    "scaler = StandardScaler()\n",
    "\n",
    "# Fit the scaler to the selected features and transform the data\n",
    "scaled_sample_data = scaler.fit_transform(sample_data)\n",
    "\n",
    "# Create a new DataFrame with the scaled data\n",
    "scaled_sample_df = pd.DataFrame(scaled_sample_data, columns=sample_data.columns)\n",
    "\n"
   ]
  },
  {
   "cell_type": "code",
   "execution_count": 59,
   "metadata": {},
   "outputs": [
    {
     "name": "stdout",
     "output_type": "stream",
     "text": [
      "Predictions:\n",
      "[1 1 0 1 1 1 1 1 0 0 0 1 1 1 0 1 1 1 0 0 0 1 0 1 0 1 0 0 0 0 1 1 0 1 0 0 1\n",
      " 0 0 0 0 0 1 0 0 1 1 1 0 0 0 1 1 0 1 0 1 0 1 0 1 0 0 1 1 1 0 1 1 0 0 1 0 0\n",
      " 0 0 0 1 0 0 1 0 1 0 1 1 1 1 1 1 0 0 1 0 0 0 1 0 1 1 0 0 0 1 1 1 0 1 1 1 1\n",
      " 1 0 1 0 1 0 0 1 1 1 0 1 0 1 1 1 0 0 1 0 0 1 1 0 1 1 1 1 1 1 1 0 1 0 1 0 1\n",
      " 1 0 0 0 1 0 1 0 1 1 0 0 0 0 0 0 0 1 0 0 1 0 0 1 0 1 0 0 0 1 0 1 0 0 1 0 0\n",
      " 0 0 0 1 0 0 0 0 0 0 0 0 1 0 1 0 0 1 0 0 0 0 0 1 1 0 1 1 1 0 1 0 0 1 1 1 0\n",
      " 1 0 1 0 0 0 0 0 1 1 1 1 1 0 0 1 0 1 0 1 0 0 0 1 0 0 1 1 0 1 1 1 1 1 0 0 0\n",
      " 0 0 0 0 1 1 1 0 1 1 0 1 1 0 1 0 0 1 0 0 0 1 0 0 0 1 1 1 1 0 1 1 1 0 1 0 1\n",
      " 1 0 1 1 0 0 0 0 1 0 0 1 0 0 0 1 1 0 1 1 1 1 0 1 1 0 0 1 1 1 1 0 0 1 0 0 1\n",
      " 1 0 0 1 0 0 0 1 0 1 1 0 1 1 1 0 1 0 0 1 0 1 0 1 1 1 0 1 1 1 0 0 1 1 1 0 0\n",
      " 1 1 1 0 1 1 0 1 1 0 0 1 0 0 1 1 1 1 0 0 0 0 1 1 1 1 0 1 0 0 1 0 1 1 1 1 1\n",
      " 1 1 1 0 0 1 1 0 1 1 0 0 0 0 1 0 0 0 1 1 1 0 1 1 1 0 1 1 0 0 0 1 0 0 0 0 0\n",
      " 1 0 0 1 0 0 0 1 1 0 0 0 1 0 0 1 1 1 0 1 0 1 0 1 0 0 0 0 1 0 1 1 1 0 0 0 0\n",
      " 1 1 1 0 1 1 0 0 0 1 0 1 0 0 1 0 1 0 1 0 0 0 0 1 1 0 1 1 1 0 0 0 0 0 1 1 1\n",
      " 0 0 1 0 0 0 1 1 0 0 1 0 0 0 1 0 1 1 1 1 1 1 0 1 0 1 0 1 0 1 0 0 0 0 0 0 0\n",
      " 0 0 1 1 0 0 1 1 1 0 0 0 1 1 1 1 1 1 1 1 0 1 0 1 1 0 1 1 0 1 1 1 1 1 1 0 0\n",
      " 1 0 0 1 0 1 1 1 0 0 0 0 0 1 0 1 0 0 0 1 1 1 0 0 0 0 1 0 1 0 0 0 0 0 1 1 0\n",
      " 0 1 0 1 0 1 0 0 1 1 1 0 1 0 0 1 0 0 0 1 1 1 0 0 1 1 1 0 1 0 0 1 1 0 1 0 1\n",
      " 0 1 0 1 0 0 1 0 1 1 0 1 1 1 1 1 1 0 1 1 0 0 1 0 0 1 0 0 0 1 1 0 1 1 1 1 0\n",
      " 0 1 0 1 0 1 1 0 0 0 1 1 1 1 0 1 0 1 0 0 1 0 1 0 1 0 1 1 0 0 1 1 1 0 1 0 1\n",
      " 0 1 1 0 1 0 0 0 1 1 1 0 0 1 1 0 0 1 1 0 0 1 0 0 1 1 0 0 0 1 0 0 1 1 0 1 0\n",
      " 1 0 0 0 1 0 1 1 1 1 1 1 1 0 1 1 0 0 0 0 1 1 0 0 0 0 0 0 0 1 0 1 1 0 0 0 1\n",
      " 0 1 0 0 0 0 0 0 1 0 1 1 0 0 1 1 1 0 1 0 1 0 1 0 0 1 1 1 0 0 0 1 0 0 0 1 0\n",
      " 0 1 1 0 1 0 0 0 1 0 0 1 1 0 0 0 0 0 0 0 1 1 0 0 1 0 1 1 1 0 0 0 1 1 0 0 1\n",
      " 0 1 1 0 0 0 1 1 1 0 1 1 1 0 1 0 1 0 1 1 1 1 0 1 0 0 0 0 1 1 1 0 1 1 1 1 1\n",
      " 0 1 1 1 0 0 0 0 1 1 0 0 0 1 1 0 0 0 1 1 0 1 0 1 1 0 0 1 0 0 0 1 1 1 1 0 1\n",
      " 0 0 0 0 1 1 0 1 0 0 0 1 0 1 1 0 0 1 0 1 0 1 1 1 0 0 0 0 1 1 1 0 0 0 0 0 0\n",
      " 0]\n",
      "Predicted Probabilities:\n",
      "[[0.44734144 0.55265856]\n",
      " [0.45294613 0.54705387]\n",
      " [0.52937984 0.47062016]\n",
      " ...\n",
      " [0.54692371 0.45307629]\n",
      " [0.52378402 0.47621598]\n",
      " [0.56490535 0.43509465]]\n",
      "Binary Predictions (with threshold = 0.5):\n",
      "[[0 1]\n",
      " [0 1]\n",
      " [1 0]\n",
      " ...\n",
      " [1 0]\n",
      " [1 0]\n",
      " [1 0]]\n"
     ]
    },
    {
     "name": "stderr",
     "output_type": "stream",
     "text": [
      "c:\\Users\\Parthi\\AppData\\Local\\Programs\\Python\\Python312\\Lib\\site-packages\\sklearn\\base.py:458: UserWarning: X has feature names, but LogisticRegression was fitted without feature names\n",
      "  warnings.warn(\n",
      "c:\\Users\\Parthi\\AppData\\Local\\Programs\\Python\\Python312\\Lib\\site-packages\\sklearn\\base.py:458: UserWarning: X has feature names, but LogisticRegression was fitted without feature names\n",
      "  warnings.warn(\n"
     ]
    }
   ],
   "source": [
    "\n",
    "# Make predictions on the preprocessed sample data\n",
    "sample_predictions = model.predict(scaled_sample_df)  \n",
    "\n",
    "# probability\n",
    "sample_predictions1 = model.predict_proba(scaled_sample_df)\n",
    "\n",
    "threshold = 0.5\n",
    "binary_predictions = (sample_predictions1 > threshold).astype(int)\n",
    "\n",
    "print(\"Predictions:\")\n",
    "print(sample_predictions)\n",
    "\n",
    "print(\"Predicted Probabilities:\")\n",
    "print(sample_predictions1)\n",
    "\n",
    "print(\"Binary Predictions (with threshold = 0.5):\")\n",
    "print(binary_predictions)"
   ]
  },
  {
   "cell_type": "code",
   "execution_count": 60,
   "metadata": {},
   "outputs": [
    {
     "name": "stdout",
     "output_type": "stream",
     "text": [
      "Consolidated Predictions:\n",
      "Positive Class (High Risk of Hospital Readmission): 485 samples (48.50%)\n",
      "Negative Class (Low Risk of Hospital Readmission): 515 samples (51.50%)\n"
     ]
    }
   ],
   "source": [
    "# Count the number of samples predicted to belong to each class\n",
    "positive_count = np.sum(sample_predictions)\n",
    "negative_count = len(sample_predictions) - positive_count\n",
    "\n",
    "# Calculate the percentage of samples in each class\n",
    "total_count = len(sample_predictions)\n",
    "positive_percentage = (positive_count / total_count) * 100\n",
    "negative_percentage = (negative_count / total_count) * 100\n",
    "\n",
    "# Print the consolidated results\n",
    "print(\"Consolidated Predictions:\")\n",
    "print(f\"Positive Class (High Risk of Hospital Readmission): {positive_count} samples ({positive_percentage:.2f}%)\")\n",
    "print(f\"Negative Class (Low Risk of Hospital Readmission): {negative_count} samples ({negative_percentage:.2f}%)\")"
   ]
  },
  {
   "cell_type": "code",
   "execution_count": 71,
   "metadata": {},
   "outputs": [],
   "source": [
    "filled_df.to_csv('new_filled_df.csv', index=False)"
   ]
  },
  {
   "cell_type": "markdown",
   "metadata": {},
   "source": [
    "#### filter based on A1C_Result and Readmitted"
   ]
  },
  {
   "cell_type": "code",
   "execution_count": 66,
   "metadata": {},
   "outputs": [],
   "source": [
    "abnormal_readmitted = filled_df[(filled_df['A1C_Result']==0)& (filled_df['Readmitted']==1)]\n",
    "normal_not_admitted = filled_df[(filled_df['A1C_Result']==1) & (filled_df['Readmitted']==0)]\n",
    "abnormal_not_readmitted= filled_df[(filled_df['A1C_Result']==0)& (filled_df['Readmitted']==0)]\n",
    "normal_readmitted = filled_df[(filled_df['A1C_Result']==1) & (filled_df['Readmitted']==1)]"
   ]
  },
  {
   "cell_type": "code",
   "execution_count": 67,
   "metadata": {},
   "outputs": [
    {
     "data": {
      "text/plain": [
       "(288, 13)"
      ]
     },
     "execution_count": 67,
     "metadata": {},
     "output_type": "execute_result"
    }
   ],
   "source": [
    "abnormal_readmitted.shape"
   ]
  },
  {
   "cell_type": "code",
   "execution_count": 68,
   "metadata": {},
   "outputs": [
    {
     "data": {
      "text/plain": [
       "(213, 13)"
      ]
     },
     "execution_count": 68,
     "metadata": {},
     "output_type": "execute_result"
    }
   ],
   "source": [
    "normal_not_admitted.shape"
   ]
  },
  {
   "cell_type": "code",
   "execution_count": 69,
   "metadata": {},
   "outputs": [
    {
     "data": {
      "text/plain": [
       "(290, 13)"
      ]
     },
     "execution_count": 69,
     "metadata": {},
     "output_type": "execute_result"
    }
   ],
   "source": [
    "abnormal_not_readmitted.shape"
   ]
  },
  {
   "cell_type": "code",
   "execution_count": 70,
   "metadata": {},
   "outputs": [
    {
     "data": {
      "text/plain": [
       "(209, 13)"
      ]
     },
     "execution_count": 70,
     "metadata": {},
     "output_type": "execute_result"
    }
   ],
   "source": [
    "normal_readmitted.shape"
   ]
  }
 ],
 "metadata": {
  "kernelspec": {
   "display_name": "Python 3",
   "language": "python",
   "name": "python3"
  },
  "language_info": {
   "codemirror_mode": {
    "name": "ipython",
    "version": 3
   },
   "file_extension": ".py",
   "mimetype": "text/x-python",
   "name": "python",
   "nbconvert_exporter": "python",
   "pygments_lexer": "ipython3",
   "version": "3.12.0"
  }
 },
 "nbformat": 4,
 "nbformat_minor": 2
}
